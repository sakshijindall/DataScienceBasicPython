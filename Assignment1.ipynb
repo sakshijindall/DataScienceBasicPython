{
 "cells": [
  {
   "cell_type": "markdown",
   "id": "bbae2dea-0c9e-4033-98a0-55b606201dc9",
   "metadata": {},
   "source": [
    "Q1. Values = 'hello' , 87.8, 6 \n",
    "    expressions = * , - , /, + \n",
    "     \n",
    "Q2. variable is a space in memory which stores different types of data like strings, integer, floating values etc. \n",
    "String is a data type which is quoted in double or single quote. \n",
    "variable can contain strings but string can contain variables.\n",
    "\n",
    "Q3. Different data types in python are\n",
    "    1. String eg- s=\"hello\"\n",
    "    2. integer eg- i=5\n",
    "    3. float eg- f=45.7\n",
    "   \n",
    "Q4. expression is made up of different operaators. It is basically used to compare the expression to a statement in python or to do some mathematical operations in python.\n",
    "\n",
    "Q5. Spam = 10 here = is an expression and spam=10 is a statement as expression is used to assign spam a value as 10 whereas spam=10 states that spam contains 10 as value.\n",
    "\n",
    "Q6. bacon will contain 23.\n",
    "\n",
    "Q7. output of the two terms are \n",
    "1. spamspamspam\n",
    "2. spamspamspam\n",
    "\n",
    "Q8. There are some rules for variable names in python. it can't be a number and can not also start with a number so 100 is not a valid variable name whereas eggs is a valid variable. Variable can start with underscore or an alphabect. However, it can contain number but not at the start of variable name.\n",
    "some examples are - eggs =200\n",
    "                    eggs100 = 200\n",
    "\n",
    "Q9. Three functions that can used to get version of value for integer is int, string is str and floating point number is float.\n",
    "\n",
    "Q10. the given statement 'I have eaten' + 99+  'burritos' will throw error because we are trying to concatenate string with an integer value 99.\n",
    "To fix this issue we first need to convert integer value into string value and then it can be concatenate.\n",
    "fixed statement would be : - 'I have eaten' + str(99) + 'burritos'"
   ]
  }
 ],
 "metadata": {
  "kernelspec": {
   "display_name": "Python 3 (ipykernel)",
   "language": "python",
   "name": "python3"
  },
  "language_info": {
   "codemirror_mode": {
    "name": "ipython",
    "version": 3
   },
   "file_extension": ".py",
   "mimetype": "text/x-python",
   "name": "python",
   "nbconvert_exporter": "python",
   "pygments_lexer": "ipython3",
   "version": "3.10.6"
  }
 },
 "nbformat": 4,
 "nbformat_minor": 5
}

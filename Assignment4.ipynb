{
 "cells": [
  {
   "cell_type": "markdown",
   "id": "3e19205a-5387-4ffd-b5ce-7a703bbe1fc8",
   "metadata": {},
   "source": [
    "1. What exactly is []?\n",
    "Ans. It is an empty list.\n",
    "\n",
    "2. In a list of values stored in a variable called spam, how would you assign the value 'hello' as the third value? (Assume [2, 4, 6, 8, 10] are in spam.) \n",
    "Ans. spam = [2,4,6,8,10]\n",
    "spam[2] = 'hello'\n",
    "print(spam)\n",
    "\n",
    "# Let's pretend the spam includes the list ['a';, 'b', 'c', 'd'] for the next three queries.\n",
    "\n",
    "3. What is the value of spam[int(int('3' * 2) / 11)]?\n",
    "Ans. The expression int('3' * 2) evaluates to 33 (concatenating two strings '3' gives '33'), and then dividing 33 by 11 gives 3. So, spam[3] refers to the fourth element in the spam list (remembering that indices start from 0).\n",
    "\n",
    "The fourth element of ['a', 'b', 'c', 'd'] is 'd'. Therefore, the value of spam[int(int('3' * 2) / 11)] is 'd'.\n",
    "\n",
    "4. What is the value of spam[-1]?\n",
    "Ans. The negative index -1 refers to the last element in the list. In ['a', 'b', 'c', 'd'], the last element is 'd'. Thus, the value of spam[-1] is also 'd'.\n",
    "\n",
    "5. What is the value of spam[:2]?\n",
    "Ans. the value of spam[:2] is ['a', 'b'].\n",
    "\n",
    "# Let's pretend bacon has the list [3.14, 'cat', 11, 'cat', True] for the next three questions.\n",
    "\n",
    "6. What is the value of bacon.index('cat')?\n",
    "Ans. it will print index of first cat string appeared in a list. so the output would be 1 as cat is at index 1\n",
    "\n",
    "7. How does bacon.append(99) change the look of the list value in bacon?\n",
    "Ans. It will add 99 at the end of the list. the new list will be bacon = [3.14, 'cat', 11, 'cat' , True, 99]\n",
    "\n",
    "8. How does bacon.remove('cat') change the look of the list in bacon?\n",
    "Ans.  it will remove the cat at first index \n",
    "new list would be bacon = [3.14, 11, 'cat', True, 99]\n",
    "\n",
    "9. What are the list concatenation and list replication operators?\n",
    "Ans. list concatenation operator(+) used to combine two or more list into a single list.\n",
    "eg list1 = [1,2,3]\n",
    "   list2 = [5,6,7]\n",
    "   concatenated_list = list1 + list2 \n",
    "   print(concatenated_list)\n",
    "output - [1,2,3,5,6,7]\n",
    "\n",
    "replication operator(*) used to create a new list by repeating the elements of a list certain number of times.\n",
    "eg - list = [1, 2, 3]\n",
    "     replicated_list = list*3\n",
    "     print(replicated_list)\n",
    "output - [1,2,3,1,2,3,1,2,3]\n",
    "\n",
    "10. What is difference between the list methods append() and insert()?\n",
    "Ans. append method is used to add an element at the end of the list \n",
    "eg - l = [1,2]\n",
    "     l.append(3)\n",
    "     print(l)\n",
    "output - [1,2,3]\n",
    "\n",
    "insert method is used to add an element in the list at a specific position.\n",
    "eg - l = [1,2]\n",
    "     l.insert(1,3)\n",
    "     print(l)\n",
    "output - [1,3,2]\n",
    "\n",
    "11. What are the two methods for removing items from a list?\n",
    "Ans. remove and pop are the methods for removing items from a list\n",
    "remove method removes the first occurence of specified element in a list\n",
    "pop method removes the element at the specific index in a list.\n",
    "\n",
    "12. Describe how list values and string values are identical.\n",
    "Ans. Both list and string supports indexing, slicing and iteration using loops.\n",
    "\n",
    "13. What's the difference between tuples and lists?\n",
    "Ans. lists are mutable and tuples are immutable which means modifications can be done in lists but tuples are once defined can not be modified. \n",
    "Also lists are defined using square brackets [] whereas as tuples are defined using round brackets ().  \n",
    "\n",
    "14. How do you type a tuple value that only contains the integer 42?\n",
    "Ans. my_tuple = (42,)\n",
    "\n",
    "15. How do you get a list value's tuple form? How do you get a tuple value's list form?\n",
    "Ans. list value's tuple form \n",
    "my_list = [1,2,3]\n",
    "my_tuple = tuple(my_list)\n",
    "print(my_tuple)\n",
    "output - (1,2,3)\n",
    "\n",
    "tuple value's list form \n",
    "my_tuple = (2,3,4)\n",
    "my_list = list(my_tuple)\n",
    "print(my_list)\n",
    "output - [2,3,4]\n",
    "\n",
    "16. Variables that \"contain\" list values are not necessarily lists themselves. Instead, what do they contain?\n",
    "Ans. when list is assigned to a variable, the variable doesn't hold the list itself but a reference of list object stored somewhere in memory. \n",
    "\n",
    "17. How do you distinguish between copy.copy() and copy.deepcopy()?\n",
    "Ans. copy.copy() creates a shallow copy where the outer structure is duplicated but nested objects are shared, while copy.deepcopy() creates a deep copy where both the outer structure and all nested objects are duplicated and independent. "
   ]
  },
  {
   "cell_type": "code",
   "execution_count": 4,
   "id": "48efa311-4c30-4b8f-aebf-cd203a8ee7fe",
   "metadata": {},
   "outputs": [
    {
     "name": "stdout",
     "output_type": "stream",
     "text": [
      "[1, 2, 3, 5, 6, 7]\n"
     ]
    }
   ],
   "source": [
    "# code for ans. 9 for concatenation\n",
    "list1 = [1,2,3]\n",
    "list2 = [5,6,7]\n",
    "concatenated_list = list1 + list2 \n",
    "print(concatenated_list)"
   ]
  },
  {
   "cell_type": "code",
   "execution_count": 5,
   "id": "7d4e791f-a1af-4752-a8ae-28886b0c223d",
   "metadata": {},
   "outputs": [
    {
     "name": "stdout",
     "output_type": "stream",
     "text": [
      "[1, 2, 3, 1, 2, 3, 1, 2, 3]\n"
     ]
    }
   ],
   "source": [
    "# code for ans. 9 for replication\n",
    "list = [1, 2, 3]\n",
    "replicated_list = list*3\n",
    "print(replicated_list)"
   ]
  },
  {
   "cell_type": "code",
   "execution_count": 6,
   "id": "8d3093c5-b03f-457a-9d44-8d8026b1ad60",
   "metadata": {},
   "outputs": [
    {
     "name": "stdout",
     "output_type": "stream",
     "text": [
      "[2, 4, 'hello', 8, 10]\n"
     ]
    }
   ],
   "source": [
    "#code for ans. 2\n",
    "spam = [2,4,6,8,10]\n",
    "spam[2] = 'hello'\n",
    "print(spam)"
   ]
  },
  {
   "cell_type": "code",
   "execution_count": null,
   "id": "76a4a2a1-11a3-49d1-8585-eb7904acd95e",
   "metadata": {},
   "outputs": [],
   "source": []
  }
 ],
 "metadata": {
  "kernelspec": {
   "display_name": "Python 3 (ipykernel)",
   "language": "python",
   "name": "python3"
  },
  "language_info": {
   "codemirror_mode": {
    "name": "ipython",
    "version": 3
   },
   "file_extension": ".py",
   "mimetype": "text/x-python",
   "name": "python",
   "nbconvert_exporter": "python",
   "pygments_lexer": "ipython3",
   "version": "3.10.6"
  }
 },
 "nbformat": 4,
 "nbformat_minor": 5
}

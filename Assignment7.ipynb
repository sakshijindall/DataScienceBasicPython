{
 "cells": [
  {
   "cell_type": "markdown",
   "id": "79b841fd-dfb8-416a-af36-c68327989c53",
   "metadata": {},
   "source": [
    "1. Create two int type variables, apply addition, subtraction, division and multiplications and store the results in variables. Then print the data in the following format by calling the variables:\n",
    "First variable is __ & second variable is __.\n",
    "Addition: __ + __ = __\n",
    "Subtraction: __ - __ = __\n",
    "Multiplication: __ * __ = __\n",
    "Division: __ / __ = __\n",
    "\n",
    "Ans. code executed below\n",
    "first_number = 50\n",
    "second_number = 5\n",
    "\n",
    "addition_result = first_number + second_number\n",
    "subtraction_result = first_number - second_number\n",
    "multiplication_result = first_number * second_number\n",
    "division_result = first_number / second_number\n",
    "\n",
    "print(\"First variable is\", first_number, \"& second variable is\", second_number,\".\")\n",
    "print(\"Addition:\", first_number, \"+\", second_number, \"=\", addition_result)\n",
    "print(\"Subtraction:\", first_number, \"-\", second_number, \"=\", subtraction_result)\n",
    "print(\"Multiplication:\", first_number, \"*\", second_number, \"=\", multiplication_result)\n",
    "print(\"Division:\", first_number, \"/\", second_number, \"=\", division_result)\n",
    "   \n",
    "2. What is the difference between the following operators:\n",
    "(i) ‘/’ & ‘//’\n",
    "(ii) ‘**’ & ‘^’\n",
    "Ans. (i) '/' operator performs a regular divison and returns a float result whereas '//' operator performs floor division and returns the largest integer that is less then or equal to division result. In other words, it discards the decimal part. \n",
    "eg - 10/3 - 3.3333333\n",
    "     10//3 - 3\n",
    "    \n",
    "(ii)  '**' is an exponentiation operator. It raises the left operand to the power of right operand. eg- 2**3 = 8 \n",
    "      '^' is a bitwise XOR operator. It compares the bit of the operands. It returns 1 if they are different otherwise 0. eg - 2^3 = 1\n",
    "    \n",
    "3. List the logical operators.\n",
    "Ans. 1. and - this operator returns true if both operands are true and false otherwise.\n",
    "     2. or - this operator returns true if atleast one of the operand is true, and false if both are false.\n",
    "     3. not - it negates the boolean value of its operand.\n",
    "     \n",
    "eg - \n",
    "x = 5 \n",
    "y = 7 \n",
    "z = 2\n",
    "\n",
    "print(x<y and y>z) #output true\n",
    "print(x>y or y>z) #output true\n",
    "print(not(x>y)) #output True\n",
    "    \n",
    "4. Explain right shift operator and left shift operator with examples.\n",
    "Ans. Both of these operators are bitwise operator. \n",
    "right shift operator : - it shifts the bits of a operator to right by specified number of positions. \n",
    "    eg - x = 16 #output 10000\n",
    "         result = x>>2 #output 100\n",
    "         print(result)  #output 4\n",
    "    \n",
    "left shift operator : - it shifts the bits of a operator to left by specified number of positions.\n",
    "    eg - x = 2  #output 10\n",
    "         result = x<<3 #output 1000\n",
    "         print(result) #output 16\n",
    "    \n",
    "5. Create a list containing int type data of length 15. Then write a code to check if 10 is present in the list or not.\n",
    "Ans. code executed below\n",
    "l = [0,1,2,3,4,5,6,7,8,9,10,11,12,13,14]\n",
    "if 10 in l: \n",
    "    print(\"10 exists in the list\")\n",
    "else:\n",
    "    print(\"10 does not exists in the list\")"
   ]
  },
  {
   "cell_type": "code",
   "execution_count": 4,
   "id": "c59cf685-6f24-4cc7-94f2-dec498c0e3b2",
   "metadata": {},
   "outputs": [
    {
     "name": "stdout",
     "output_type": "stream",
     "text": [
      "First variable is 50 & second variable is 5 .\n",
      "Addition: 50 + 5 = 55\n",
      "Subtraction: 50 - 5 = 45\n",
      "Multiplication: 50 * 5 = 250\n",
      "Division: 50 / 5 = 10.0\n"
     ]
    }
   ],
   "source": [
    "#code for ans. 1\n",
    "\n",
    "first_number = 50\n",
    "second_number = 5\n",
    "\n",
    "addition_result = first_number + second_number\n",
    "subtraction_result = first_number - second_number\n",
    "multiplication_result = first_number * second_number\n",
    "division_result = first_number / second_number\n",
    "\n",
    "print(\"First variable is\", first_number, \"& second variable is\", second_number,\".\")\n",
    "print(\"Addition:\", first_number, \"+\", second_number, \"=\", addition_result)\n",
    "print(\"Subtraction:\", first_number, \"-\", second_number, \"=\", subtraction_result)\n",
    "print(\"Multiplication:\", first_number, \"*\", second_number, \"=\", multiplication_result)\n",
    "print(\"Division:\", first_number, \"/\", second_number, \"=\", division_result)"
   ]
  },
  {
   "cell_type": "code",
   "execution_count": 15,
   "id": "80a03646-873b-4c48-9a5e-5e258b75b3d9",
   "metadata": {},
   "outputs": [
    {
     "name": "stdout",
     "output_type": "stream",
     "text": [
      "10 exists in the list\n"
     ]
    }
   ],
   "source": [
    "#code for ans. 5\n",
    "l = [0,1,2,3,4,5,6,7,8,9,10,11,12,13,14]\n",
    "if 10 in l: \n",
    "    print(\"10 exists in the list\")\n",
    "else:\n",
    "    print(\"10 does not exists in the list\")"
   ]
  },
  {
   "cell_type": "code",
   "execution_count": null,
   "id": "a5195aa8-a94b-4e56-82e7-4d9ba732c872",
   "metadata": {},
   "outputs": [],
   "source": []
  },
  {
   "cell_type": "code",
   "execution_count": null,
   "id": "e61b5ee9-4e1e-44ff-a7c8-aa43090b05e1",
   "metadata": {},
   "outputs": [],
   "source": []
  },
  {
   "cell_type": "code",
   "execution_count": null,
   "id": "3c586802-0704-496f-8594-95971aaf6082",
   "metadata": {},
   "outputs": [],
   "source": []
  }
 ],
 "metadata": {
  "kernelspec": {
   "display_name": "Python 3 (ipykernel)",
   "language": "python",
   "name": "python3"
  },
  "language_info": {
   "codemirror_mode": {
    "name": "ipython",
    "version": 3
   },
   "file_extension": ".py",
   "mimetype": "text/x-python",
   "name": "python",
   "nbconvert_exporter": "python",
   "pygments_lexer": "ipython3",
   "version": "3.10.6"
  }
 },
 "nbformat": 4,
 "nbformat_minor": 5
}

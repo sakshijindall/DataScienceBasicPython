{
 "cells": [
  {
   "cell_type": "markdown",
   "id": "2d2ce17a-62fd-43f3-a50b-dd6bf67fec16",
   "metadata": {},
   "source": [
    "1. What are keywords in python? Using the keyword library, print all the python keywords.\n",
    "Ans. keywords in python are reserved words that have special meaning and used to define the structure and keyword of the language. These can not be used as identifiers(variable names and function names)\n",
    "\n",
    "import keyword\n",
    "keywords = keyword.kwlist\n",
    "print(keywords)\n",
    "\n",
    "2. What are the rules to create variables in python?\n",
    "Ans. variables are used to store data and provide a way to refer to that data by a name\n",
    "Rules are:-\n",
    " 1 Variable names can consist of letters (a-z, A-Z), digits (0-9), and underscores (_).\n",
    " 2 The first character of a variable name cannot be a digit.\n",
    " 3 Variable names are case-sensitive, meaning myVariable and myvariable are treated as different variables.\n",
    " 4 Variable names cannot be the same as Python keywords or reserved words\n",
    " Valid variable names: my_variable, number1\n",
    " Invalid variable names: 123var, my-variable \n",
    "\n",
    "\n",
    "3. What are the standards and conventions followed for the nomenclature of variables in python to improve code readability and maintainability?\n",
    "Ans. 1 Use descriptive names\n",
    "2 Use lowercase letters with underscores like total_count\n",
    "3 Avoid single-letter names like i, j, k\n",
    "4 Maintain consistency in naming conventions throughout your code\n",
    "5 Avoid using reserved keywords\n",
    "\n",
    "4. What will happen if a keyword is used as a variable name?\n",
    "Ans. If a keyword is used as a variable name in Python, it will result in a SyntaxError during code execution. \n",
    "\n",
    "5. For what purpose def keyword is used?\n",
    "Ans. The def keyword in Python is used to define a function. Functions are blocks of reusable code that perform a specific task. By using the def keyword, you can create your own custom functions with a specific name, parameters (optional), and a block of code that executes when the function is called.\n",
    "\n",
    "6. What is the operation of this special character ‘\\’?\n",
    "Ans. 1 The backslash is used to create escape sequences, which are special character combinations that represent certain characters that are difficult to include directly in a string. \n",
    "2 The backslash is used to represent Unicode and ASCII characters by their hexadecimal or octal values.\n",
    "3 The backslash can be used to continue a statement onto the next line.\n",
    "4 The backslash can be used to create raw strings, which treat backslashes as literal characters rather than escape characters.\n",
    "\n",
    "7. Give an example of the following conditions:\n",
    "   (i) Homogeneous list\n",
    "   (ii) Heterogeneous set\n",
    "   (iii) Homogeneous tuple\n",
    "   \n",
    "Ans. (i) Homogeneous list -> list = [1,2,3,4,5]\n",
    "(ii) Hetrogeneous set -> my_set = {5, True, 'apple', 3.14}\n",
    "(iii) Homogeneous tuple -> fruits = ('apple', 'banana', 'kiwi')\n",
    "\n",
    "8. Explain the mutable and immutable data types with proper explanation & examples.\n",
    "Ans. Mutable data types are those which allow changes to their elements which means it can be change, delete or edit whereas immutable data types are those which does not allow any changes or modification of elements once created. \n",
    "eg for mutable elements. \n",
    " 1 List = [1, 5, 63, 7.8]\n",
    "   list.append('ineuron')\n",
    " 2 set = {1,2,3}\n",
    "   set.add(4)\n",
    " 3 dict = {'name' : 'sudh', 'class' : 10, 'age' : 25}\n",
    "   dict['age'] = 34\n",
    "all of these statements will not give any error and allow changes\n",
    "eg for immutable elements. \n",
    "  1 Numbers x = 5 \n",
    "     x = 10 \n",
    "  2 String name = 'sudh'\n",
    "     name[0] = 'm'\n",
    "  3 tuple = (3,7,8)\n",
    "    tuple[0] = 4\n",
    "all of these statements will give error and won't allow changes\n",
    "\n",
    "\n",
    "9. Write a code to create the given structure using only for loop.\n",
    "Ans. code executed below\n",
    "\n",
    "n = 5 \n",
    "for i in range(n):\n",
    "    for j in range(i,n):\n",
    "        print(\" \", end = '')\n",
    "    for j in range(i):\n",
    "        print(\"*\", end = '')\n",
    "    for j in range(i+1):\n",
    "        print(\"*\", end = '')\n",
    "    print()\n",
    "\n",
    "\n",
    "10. Write a code to create the given structure using while loop.\n",
    "Ans. code executed below\n",
    "row = 5\n",
    "column = 9\n",
    "i = 0\n",
    "\n",
    "while row > 0:\n",
    "    j = 0\n",
    "    while j < i:\n",
    "        print(\" \", end=\"\")\n",
    "        j += 1\n",
    "    k = 0\n",
    "    while k < column:\n",
    "        print(\"|\", end=\"\")\n",
    "        k += 1\n",
    "    print()\n",
    "    row -= 1\n",
    "    column -= 2\n",
    "    i += 1"
   ]
  },
  {
   "cell_type": "code",
   "execution_count": 2,
   "id": "59c7b547-4295-44b2-a539-25e84f60d7f5",
   "metadata": {},
   "outputs": [
    {
     "name": "stdout",
     "output_type": "stream",
     "text": [
      "['False', 'None', 'True', 'and', 'as', 'assert', 'async', 'await', 'break', 'class', 'continue', 'def', 'del', 'elif', 'else', 'except', 'finally', 'for', 'from', 'global', 'if', 'import', 'in', 'is', 'lambda', 'nonlocal', 'not', 'or', 'pass', 'raise', 'return', 'try', 'while', 'with', 'yield']\n"
     ]
    }
   ],
   "source": [
    "# code for ans. 1\n",
    "import keyword\n",
    "keywords = keyword.kwlist\n",
    "print(keywords)"
   ]
  },
  {
   "cell_type": "code",
   "execution_count": 3,
   "id": "eb68f36a-66aa-4287-8632-0e70d2c7670b",
   "metadata": {},
   "outputs": [
    {
     "name": "stdout",
     "output_type": "stream",
     "text": [
      "     *\n",
      "    ***\n",
      "   *****\n",
      "  *******\n",
      " *********\n"
     ]
    }
   ],
   "source": [
    "#code for ans. 9 \n",
    "n = 5 \n",
    "for i in range(n):\n",
    "    for j in range(i,n):\n",
    "        print(\" \", end = '')\n",
    "    for j in range(i):\n",
    "        print(\"*\", end = '')\n",
    "    for j in range(i+1):\n",
    "        print(\"*\", end = '')\n",
    "    print()"
   ]
  },
  {
   "cell_type": "code",
   "execution_count": 1,
   "id": "879c4c46-6f08-4055-b93f-0d8bd5b6e627",
   "metadata": {},
   "outputs": [
    {
     "name": "stdout",
     "output_type": "stream",
     "text": [
      "|||||||||\n",
      " |||||||\n",
      "  |||||\n",
      "   |||\n",
      "    |\n"
     ]
    }
   ],
   "source": [
    "#code for ans. 10 \n",
    "row = 5\n",
    "column = 9\n",
    "i = 0\n",
    "\n",
    "while row > 0:\n",
    "    j = 0\n",
    "    while j < i:\n",
    "        print(\" \", end=\"\")\n",
    "        j += 1\n",
    "\n",
    "    k = 0\n",
    "    while k < column:\n",
    "        print(\"|\", end=\"\")\n",
    "        k += 1\n",
    "\n",
    "    print()\n",
    "    row -= 1\n",
    "    column -= 2\n",
    "    i += 1"
   ]
  },
  {
   "cell_type": "code",
   "execution_count": null,
   "id": "a8cc99d6-bfae-45d9-9e09-f484ad6c3744",
   "metadata": {},
   "outputs": [],
   "source": []
  }
 ],
 "metadata": {
  "kernelspec": {
   "display_name": "Python 3 (ipykernel)",
   "language": "python",
   "name": "python3"
  },
  "language_info": {
   "codemirror_mode": {
    "name": "ipython",
    "version": 3
   },
   "file_extension": ".py",
   "mimetype": "text/x-python",
   "name": "python",
   "nbconvert_exporter": "python",
   "pygments_lexer": "ipython3",
   "version": "3.10.6"
  }
 },
 "nbformat": 4,
 "nbformat_minor": 5
}

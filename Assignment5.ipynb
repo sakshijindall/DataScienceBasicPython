{
 "cells": [
  {
   "cell_type": "markdown",
   "id": "a2e06ffc-6444-4402-8b12-e630c1251495",
   "metadata": {},
   "source": [
    "1. What does an empty dictionary&#39;s code look like?\n",
    "Ans. d = {}\n",
    "\n",
    "2. What is the value of a dictionary value with the key 'foo' and the value 42?\n",
    "Ans. dictionary value of the key 'foo' will be 42 \n",
    "my_d = {'foo' : 42}\n",
    "my_value = my_d['foo']\n",
    "print(my_value)\n",
    "\n",
    "3. What is the most significant distinction between a dictionary and a list?\n",
    "Ans. 1. List is ordered whereas dictionary is unordered\n",
    "     2. List is accessed by index whereas dictionary is accessed by its keys\n",
    "     3. List are mutable which means it can be change, add or remove whereas dictionary values are mutable and data items i.e keys are               immutable \n",
    "     4. Both are hetrogeneous that means any data type can be defined. \n",
    "     \n",
    "4. What happens if you try to access spam['foo'] if spam is {'bar': 100}?\n",
    "Ans. this code will give a key error as spam is a dictionary and there is no Key present with name 'foo' \n",
    "to avoid an error we can also use default value using get method in case the key is not present in dictionary. \n",
    "eg- spam = {'bar' : 100}\n",
    "value = spam.get('foo', 'default value')\n",
    "print(value)\n",
    "\n",
    "5. If a dictionary is stored in spam, what is the difference between the expressions 'cat' in spam and 'cat' in spam.keys()?\n",
    "Ans. 'cat' in spam checks for if cat exists in a dictionary without defining if its a key or value, so by default it will always search for keys. eg - d = {'cat' : 1, \"dog\" : 2} will return true as it searches for cat in keys\n",
    "'cat' in spam.keys() will only search for elements as keys in a dictionary and will return true or false accordingly. eg - {1:'dog', 2:'cat'} will return false as it searches for cat in keys\n",
    "\n",
    "\n",
    "6. If a dictionary is stored in spam, what is the difference between the expressions 'cat' in spam and 'cat' in spam.values()?\n",
    "Ans. 'cat' in spam checks for cat in only keys by default and return true or false accordingly  \n",
    "eg - d = {'cat' : 1, \"dog\" : 2} will return true as it searches for cat in keys\n",
    "'cat' in spam.values() will check for cat in values specifically but not keys and return true or false accordingly. eg - {1:'dog', 2:'cat'} will also return True as it searches for cat in keys\n",
    "\n",
    "\n",
    "7. What is a shortcut for the following code? \n",
    "   if 'color' not in spam:\n",
    "   spam['color'] = 'black';\n",
    "Ans. spam.setdefault('color':'black')\n",
    "\n",
    "8. How do you 'pretty print' dictionary values using which module and function?\n",
    "Ans. pprint module and pprint() function\n",
    "import pprint\n",
    "dict = {'key1' : 'value1', 'key2' : 'value2', 'key3' : 'value3'}\n",
    "pprint.pprint(dict)"
   ]
  },
  {
   "cell_type": "code",
   "execution_count": 2,
   "id": "4a266250-3bad-40af-a919-a2e8f4f7ca1b",
   "metadata": {},
   "outputs": [
    {
     "name": "stdout",
     "output_type": "stream",
     "text": [
      "42\n"
     ]
    }
   ],
   "source": [
    "#code for ans. 2\n",
    "my_d = {'foo' : 42}\n",
    "my_value = my_d['foo']\n",
    "print(my_value)"
   ]
  },
  {
   "cell_type": "code",
   "execution_count": 4,
   "id": "f745629b-75f3-4386-9ed5-eb68b7d93ed5",
   "metadata": {},
   "outputs": [
    {
     "name": "stdout",
     "output_type": "stream",
     "text": [
      "{'key1': 'value1', 'key2': 'value2', 'key3': 'value3'}\n"
     ]
    }
   ],
   "source": [
    "#code for ans. 8\n",
    "import pprint\n",
    "dict = {'key1' : 'value1', 'key2' : 'value2', 'key3' : 'value3'}\n",
    "pprint.pprint(dict)"
   ]
  },
  {
   "cell_type": "code",
   "execution_count": null,
   "id": "86649df3-014a-49b9-842c-89855a028cd8",
   "metadata": {},
   "outputs": [],
   "source": []
  }
 ],
 "metadata": {
  "kernelspec": {
   "display_name": "Python 3 (ipykernel)",
   "language": "python",
   "name": "python3"
  },
  "language_info": {
   "codemirror_mode": {
    "name": "ipython",
    "version": 3
   },
   "file_extension": ".py",
   "mimetype": "text/x-python",
   "name": "python",
   "nbconvert_exporter": "python",
   "pygments_lexer": "ipython3",
   "version": "3.10.6"
  }
 },
 "nbformat": 4,
 "nbformat_minor": 5
}

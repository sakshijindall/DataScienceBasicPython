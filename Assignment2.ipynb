{
 "cells": [
  {
   "cell_type": "markdown",
   "id": "626615fd-4898-4dc7-8344-aafb5c86a3f7",
   "metadata": {},
   "source": [
    "1. What are the two values of the Boolean data type? How do you write them?\n",
    "Ans. Two values of boolean data types are True and False. These are case sensitive so these values always starts with capital letters.\n",
    "It can be written as True or False. \n",
    "\n",
    "\n",
    "2. What are the three different types of Boolean operators?\n",
    "Ans. Three boolean operator are OR, AND and NOT\n",
    "\n",
    "3. Make a list of each Boolean operator's truth tables (i.e. every possible combination of Boolean\n",
    "values for the operator and what it evaluate ).\n",
    "Ans.  \n",
    "AND Table \n",
    "A B X \n",
    "0 0 0 False And False is False\n",
    "0 1 0 False And True is False\n",
    "1 0 0 True and False is False \n",
    "1 1 1 True and True is True\n",
    "\n",
    "OR Table \n",
    "A B X\n",
    "0 0 0 False and False is False \n",
    "0 1 1 False and True is True \n",
    "1 0 1 True and False is True\n",
    "1 1 1 True and True is True \n",
    "\n",
    "NOT Table \n",
    "A X\n",
    "0 1 Not False is True\n",
    "1 0 Not True is False\n",
    "\n",
    "4. What are the values of the following expressions?\n",
    "Ans. \n",
    "(5 > 4) and (3 == 5) -> False\n",
    "not (5 > 4) -> False\n",
    "(5 > 4) or (3 == 5) -> True\n",
    "not ((5 > 4) or (3 == 5)) -> False\n",
    "(True and True) and (True == False) -> False\n",
    "(not False) or (not True) -> True\n",
    "\n",
    "5. What are the six comparison operators?\n",
    "Ans. Comparison operators either return true or false\n",
    "\n",
    "six comparison operator are:-\n",
    "a. Less than (<)\n",
    "b. Greater than (>)\n",
    "c. equal to (==)\n",
    "d. les than or equal to (<=)\n",
    "e. Greater then or equal to (>=)\n",
    "f. Not equal to (!=)\n",
    "\n",
    "6. How do you tell the difference between the equal to and assignment operators? Describe a condition and when you would use one.\n",
    "Ans. equal to operator is used to compare two values and it return boolean values as true if the value is correct and false if the value is not correct. (==) is equal to operator.\n",
    "assignment operator is used to assign any value to a variable. (=) is assignment operator.\n",
    "In the below given example x = 5 and y = 5 uses assignment operator and x == y uses equal to operator\n",
    "eg - x = 5, y = 5 \n",
    "if x == y: \n",
    "    print(\" x is equal to y\")\n",
    "else \n",
    "    print(\" x is not equal to y\")\n",
    "    \n",
    "  \n",
    "7. Identify the three blocks in this code:\n",
    "spam = 0\n",
    "if spam == 10:\n",
    "print('eggs')\n",
    "if spam > 5:\n",
    "print('bacon')\n",
    "else:\n",
    "print('ham')\n",
    "print('spam')\n",
    "print('spam')\n",
    "Ans. Three blocks in the code are \n",
    "\n",
    "# Block 1\n",
    "if spam == 10:\n",
    "    print('eggs')\n",
    "# Block 2\n",
    "if spam >5 :\n",
    "    print('bacon')\n",
    "else: \n",
    "    print('ham')\n",
    "# Block 3\n",
    "print('spam')\n",
    "print('spam')\n",
    "\n",
    "\n",
    "8. Write code that prints Hello if 1 is stored in spam, prints Howdy if 2 is stored in spam, and prints Greetings! if anything else is stored in spam.\n",
    "Ans. code executed below\n",
    "spam = int(input(\"enter value for spam : \"))\n",
    "if spam == 1:\n",
    "    print(\"Hello\")\n",
    "elif spam == 2:\n",
    "    print(\"Howdy\")\n",
    "else :\n",
    "    print(\"Greetings!\")\n",
    "\n",
    "9. If your programme is stuck in an endless loop, what keys you’ll press?\n",
    "Ans. Ctrl + C\n",
    "\n",
    "10. How can you tell the difference between break and continue?\n",
    "Ans. Break is used to terminate and immediately comes out of the loop whereas continue is used to stop the current iteraation and start with the next iteration\n",
    "eg: - \n",
    "for i in range(1,6):            for i in range(1,6):\n",
    "    if i == 3:                      if i == 4:\n",
    "        break                           continue\n",
    "    print(i)                        print(i)\n",
    "output - 1,2                     output - 1,2,3,5\n",
    "\n",
    "\n",
    "11. In a for loop, what is the difference between range(10), range(0, 10), and range(0, 10, 1)?\n",
    "Ans. There is not much difference between in all of these three statements as the output of all the statements will be same and print numbers 0 to 9. The only difference is range(10) is having upperbound(stop) till the iteration will execute whereas range(0,10) has lowerbound and upperbound i.e start and stop which means the iteration will start from 0 till 10th index. Also range(0,10,1) has start, stop and step which gives the starting as 0 executes(stops) till 10 with a jump of 1. \n",
    "\n",
    "12. Write a short program that prints the numbers 1 to 10 using a for loop. Then write an equivalent program that prints the numbers 1 to 10 using a while loop.\n",
    "Ans. code is executed below\n",
    "for loop \n",
    "for i in range(1,11):\n",
    "    print(i)\n",
    "    \n",
    "while loop \n",
    "a = 1\n",
    "b = 10\n",
    "while a <= 10:\n",
    "    print(a)\n",
    "    a = a+1\n",
    "13. If you had a function named bacon() inside a module named spam, how would you call it after importing spam?\n",
    "Ans. import spam\n",
    "     spam.bacon()\n",
    "In this code spam.bacon() calls the function name bacon() from the module name spam."
   ]
  },
  {
   "cell_type": "code",
   "execution_count": 3,
   "id": "c9530faa-2c42-4072-8d82-a2157de96676",
   "metadata": {},
   "outputs": [
    {
     "name": "stdin",
     "output_type": "stream",
     "text": [
      "enter value for spam :  2\n"
     ]
    },
    {
     "name": "stdout",
     "output_type": "stream",
     "text": [
      "Howdy\n"
     ]
    }
   ],
   "source": [
    "# Ans. 8 \n",
    "spam = int(input(\"enter value for spam : \"))\n",
    "if spam == 1:\n",
    "    print(\"Hello\")\n",
    "elif spam == 2:\n",
    "    print(\"Howdy\")\n",
    "else :\n",
    "    print(\"Greetings!\")"
   ]
  },
  {
   "cell_type": "code",
   "execution_count": 9,
   "id": "32371655-3555-4896-b8c6-8d50c6fcaf82",
   "metadata": {},
   "outputs": [
    {
     "name": "stdout",
     "output_type": "stream",
     "text": [
      "1\n",
      "2\n",
      "3\n",
      "4\n",
      "5\n",
      "6\n",
      "7\n",
      "8\n",
      "9\n",
      "10\n"
     ]
    }
   ],
   "source": [
    "# Ans. 12 using for loop\n",
    "for i in range(1,11):\n",
    "    print(i)"
   ]
  },
  {
   "cell_type": "code",
   "execution_count": 3,
   "id": "0746bcb7-d7d4-42ff-9a94-c4d3d54570ef",
   "metadata": {},
   "outputs": [
    {
     "name": "stdout",
     "output_type": "stream",
     "text": [
      "1\n",
      "2\n",
      "3\n",
      "4\n",
      "5\n",
      "6\n",
      "7\n",
      "8\n",
      "9\n",
      "10\n"
     ]
    }
   ],
   "source": [
    "# Ans. 12 using while loop\n",
    "a = 1\n",
    "b = 10\n",
    "while a <= 10:\n",
    "    print(a)\n",
    "    a = a+1\n"
   ]
  },
  {
   "cell_type": "code",
   "execution_count": null,
   "id": "958d6ee9-258c-48bf-acf5-cb98098537b0",
   "metadata": {},
   "outputs": [],
   "source": []
  }
 ],
 "metadata": {
  "kernelspec": {
   "display_name": "Python 3 (ipykernel)",
   "language": "python",
   "name": "python3"
  },
  "language_info": {
   "codemirror_mode": {
    "name": "ipython",
    "version": 3
   },
   "file_extension": ".py",
   "mimetype": "text/x-python",
   "name": "python",
   "nbconvert_exporter": "python",
   "pygments_lexer": "ipython3",
   "version": "3.10.6"
  }
 },
 "nbformat": 4,
 "nbformat_minor": 5
}
